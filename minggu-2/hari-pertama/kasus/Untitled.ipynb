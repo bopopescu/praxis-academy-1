{
 "cells": [
  {
   "cell_type": "code",
   "execution_count": 2,
   "metadata": {},
   "outputs": [
    {
     "name": "stdout",
     "output_type": "stream",
     "text": [
      "25\n"
     ]
    }
   ],
   "source": [
    "def square(x) :\n",
    "    return x*x\n",
    "\n",
    "hitung= square(5)\n",
    "print(hitung)"
   ]
  },
  {
   "cell_type": "code",
   "execution_count": 4,
   "metadata": {},
   "outputs": [
    {
     "name": "stdout",
     "output_type": "stream",
     "text": [
      "How are you\n"
     ]
    }
   ],
   "source": [
    "def formalgreeting():\n",
    "    print(\"How are you\")\n",
    "    \n",
    "def casualgreeting() :\n",
    "    print(\"Whats up\")\n",
    "    \n",
    "def greet(type) :\n",
    "    if (type == \"formal\") :\n",
    "        formalgreeting()\n",
    "    else :\n",
    "        casualgreeting()\n",
    "        \n",
    "greet(\"formal\")"
   ]
  },
  {
   "cell_type": "code",
   "execution_count": 8,
   "metadata": {},
   "outputs": [
    {
     "name": "stdout",
     "output_type": "stream",
     "text": [
      "[2, 4, 6]\n"
     ]
    }
   ],
   "source": [
    "arr1 = [1,2,3]\n",
    "\n",
    "def konstanta(x) :\n",
    "    return x\n",
    "\n",
    "abc = map(lambda x : x*2, arr1)\n",
    "\n",
    "print(list(abc))"
   ]
  },
  {
   "cell_type": "code",
   "execution_count": 10,
   "metadata": {},
   "outputs": [
    {
     "name": "stdout",
     "output_type": "stream",
     "text": [
      "[44, 22, 17, 24, 34]\n"
     ]
    }
   ],
   "source": [
    "year = [1975, 1997, 2002, 1995, 1985]\n",
    "\n",
    "def ages(x) :\n",
    "    return x\n",
    "\n",
    "age = map(lambda x : 2019-x, year)\n",
    "\n",
    "print(list(age))"
   ]
  },
  {
   "cell_type": "code",
   "execution_count": 13,
   "metadata": {},
   "outputs": [
    {
     "name": "stdout",
     "output_type": "stream",
     "text": [
      "[{'name': 'Mark', 'age': 18}, {'name': 'John', 'age': 27}, {'name': 'Tony', 'age': 24}]\n"
     ]
    }
   ],
   "source": [
    "persons = [\n",
    "  { 'name': 'Peter', 'age': 16 },\n",
    "  { 'name': 'Mark', 'age': 18 },\n",
    "  { 'name': 'John', 'age': 27 },\n",
    "  { 'name': 'Jane', 'age': 14 },\n",
    "  { 'name': 'Tony', 'age': 24},\n",
    "]\n",
    "\n",
    "full_age = filter(lambda x: x['age'] >= 18, persons)\n",
    "print(list(full_age))"
   ]
  },
  {
   "cell_type": "code",
   "execution_count": 24,
   "metadata": {},
   "outputs": [
    {
     "name": "stdout",
     "output_type": "stream",
     "text": [
      "25\n"
     ]
    }
   ],
   "source": [
    "from functools import reduce\n",
    "arr = [5, 7, 1, 8, 4]\n",
    "\n",
    "sum = reduce((lambda x,y : x + y), arr)\n",
    "print(sum)"
   ]
  },
  {
   "cell_type": "code",
   "execution_count": 30,
   "metadata": {},
   "outputs": [
    {
     "name": "stdout",
     "output_type": "stream",
     "text": [
      "<class 'map'>\n",
      "[10, 6, 3, 4, 1]\n"
     ]
    }
   ],
   "source": [
    "strArray = ['JavaScript', 'Python', 'PHP', 'Java', 'C']\n",
    "\n",
    "def mapforeach(stringarray) :\n",
    "    arr = len(stringarray)\n",
    "    return arr\n",
    "\n",
    "lenarray = map(mapforeach, strArray)\n",
    "# print(type(lenarray))\n",
    "\n",
    "print(list(lenarray))"
   ]
  },
  {
   "cell_type": "code",
   "execution_count": null,
   "metadata": {},
   "outputs": [],
   "source": []
  }
 ],
 "metadata": {
  "kernelspec": {
   "display_name": "Python 3",
   "language": "python",
   "name": "python3"
  },
  "language_info": {
   "codemirror_mode": {
    "name": "ipython",
    "version": 3
   },
   "file_extension": ".py",
   "mimetype": "text/x-python",
   "name": "python",
   "nbconvert_exporter": "python",
   "pygments_lexer": "ipython3",
   "version": "3.7.3"
  }
 },
 "nbformat": 4,
 "nbformat_minor": 2
}
