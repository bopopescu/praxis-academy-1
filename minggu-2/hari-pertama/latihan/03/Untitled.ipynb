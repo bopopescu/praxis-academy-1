{
 "cells": [
  {
   "cell_type": "code",
   "execution_count": 1,
   "metadata": {},
   "outputs": [
    {
     "data": {
      "text/plain": [
       "[1, 2, 3]"
      ]
     },
     "execution_count": 1,
     "metadata": {},
     "output_type": "execute_result"
    }
   ],
   "source": [
    "list(map(int, [1,2,3]))"
   ]
  },
  {
   "cell_type": "code",
   "execution_count": 5,
   "metadata": {},
   "outputs": [
    {
     "name": "stdout",
     "output_type": "stream",
     "text": [
      "hello world\n"
     ]
    }
   ],
   "source": [
    "def hello_world(h) :\n",
    "    def world(w) :\n",
    "        print(h,w)\n",
    "    return world\n",
    "\n",
    "h = hello_world\n",
    "x = h(\"hello\")\n",
    "x\n",
    "x(\"world\")"
   ]
  },
  {
   "cell_type": "code",
   "execution_count": 6,
   "metadata": {},
   "outputs": [
    {
     "ename": "TypeError",
     "evalue": "'type' object is not iterable",
     "output_type": "error",
     "traceback": [
      "\u001b[0;31m---------------------------------------------------------------------------\u001b[0m",
      "\u001b[0;31mTypeError\u001b[0m                                 Traceback (most recent call last)",
      "\u001b[0;32m<ipython-input-6-d671d101c876>\u001b[0m in \u001b[0;36m<module>\u001b[0;34m\u001b[0m\n\u001b[1;32m      6\u001b[0m \u001b[0;34m\u001b[0m\u001b[0m\n\u001b[1;32m      7\u001b[0m \u001b[0;31m# can be replaced with\u001b[0m\u001b[0;34m\u001b[0m\u001b[0;34m\u001b[0m\u001b[0;34m\u001b[0m\u001b[0m\n\u001b[0;32m----> 8\u001b[0;31m \u001b[0msum\u001b[0m\u001b[0;34m(\u001b[0m\u001b[0mlist\u001b[0m\u001b[0;34m)\u001b[0m\u001b[0;34m\u001b[0m\u001b[0;34m\u001b[0m\u001b[0m\n\u001b[0m",
      "\u001b[0;31mTypeError\u001b[0m: 'type' object is not iterable"
     ]
    }
   ],
   "source": [
    "def naive_sum(list) :\n",
    "    s = 0\n",
    "    for l in list :\n",
    "        s+=1\n",
    "    return s\n",
    "\n",
    "# can be replaced with \n",
    "sum(list)"
   ]
  },
  {
   "cell_type": "code",
   "execution_count": 23,
   "metadata": {},
   "outputs": [
    {
     "name": "stdout",
     "output_type": "stream",
     "text": [
      "[None, None, None]\n"
     ]
    }
   ],
   "source": [
    "# Reducing the usage of loops\n",
    "def func1() :\n",
    "    pass\n",
    "#     return (1,2,3)\n",
    "\n",
    "def func2() : \n",
    "#     return (4,5,6)\n",
    "    pass\n",
    "\n",
    "def func3() :\n",
    "    pass\n",
    "#     return (7,8,9)\n",
    "\n",
    "executing = lambda f : f()\n",
    "result = map(executing, [func1, func2, func3])\n",
    "print(list(result))"
   ]
  },
  {
   "cell_type": "code",
   "execution_count": 22,
   "metadata": {},
   "outputs": [
    {
     "name": "stdout",
     "output_type": "stream",
     "text": [
      "[2, 4, 6, 8]\n"
     ]
    }
   ],
   "source": [
    "number = (1,2,3,4)\n",
    "result = map(lambda x : x + x, number)\n",
    "print(list(result))"
   ]
  },
  {
   "cell_type": "code",
   "execution_count": 24,
   "metadata": {},
   "outputs": [
    {
     "name": "stdout",
     "output_type": "stream",
     "text": [
      "[12, 15, 18]\n"
     ]
    }
   ],
   "source": [
    "# ini fungsinya\n",
    "def myfunc(a,b,c) :\n",
    "    return a+b+c\n",
    "\n",
    "# ini menjalankan fungsinya\n",
    "x = map(myfunc, (1,2,3), (4,5,6), (7,8,9))\n",
    "print(list(x))"
   ]
  },
  {
   "cell_type": "code",
   "execution_count": 26,
   "metadata": {},
   "outputs": [
    {
     "name": "stdout",
     "output_type": "stream",
     "text": [
      "783012621312\n"
     ]
    }
   ],
   "source": [
    "# define a function `call` where you provide the function and the arguments\n",
    "def call(x,f) :\n",
    "    return f(x)\n",
    "\n",
    "# define a function that returns the square\n",
    "square = lambda x : x*x\n",
    "\n",
    "# define a function that returns the increment\n",
    "increment = lambda x : x+1\n",
    "\n",
    "# define a function that return the cube\n",
    "cube = lambda x : x*x*x\n",
    "\n",
    "# define a function that return a decrement\n",
    "decrement = lambda x:x-1\n",
    "\n",
    "# put all function in a list the order than you want to execute them\n",
    "funcs = [square, increment, cube, decrement]\n",
    "\n",
    "# bring it all together. Below is the non functional part. \n",
    "# in functional programming you separate the functional and the non functional parts.\n",
    "\n",
    "from functools import reduce # reduce is the functool library\n",
    "print(reduce(call, funcs, 96))\n"
   ]
  },
  {
   "cell_type": "code",
   "execution_count": null,
   "metadata": {},
   "outputs": [],
   "source": []
  }
 ],
 "metadata": {
  "kernelspec": {
   "display_name": "Python 3",
   "language": "python",
   "name": "python3"
  },
  "language_info": {
   "codemirror_mode": {
    "name": "ipython",
    "version": 3
   },
   "file_extension": ".py",
   "mimetype": "text/x-python",
   "name": "python",
   "nbconvert_exporter": "python",
   "pygments_lexer": "ipython3",
   "version": "3.7.3"
  }
 },
 "nbformat": 4,
 "nbformat_minor": 2
}
