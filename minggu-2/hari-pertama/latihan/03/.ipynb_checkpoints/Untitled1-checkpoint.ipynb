{
 "cells": [
  {
   "cell_type": "code",
   "execution_count": 13,
   "metadata": {},
   "outputs": [
    {
     "data": {
      "text/plain": [
       "['Isaac Asimov',\n",
       " 'Ray Bradbury',\n",
       " 'Octavia Butler',\n",
       " 'Neal Stephenson',\n",
       " 'Margaret Atwood',\n",
       " 'Usula K Le Guin']"
      ]
     },
     "execution_count": 13,
     "metadata": {},
     "output_type": "execute_result"
    }
   ],
   "source": [
    "authors = ['Octavia Butler', 'Isaac Asimov', 'Neal Stephenson', 'Margaret Atwood', 'Usula K Le Guin', 'Ray Bradbury']\n",
    "authors2 = ['Octavia Butler', 'Isaac Asimov', 'Neal Stephenson', 'Margaret Atwood', 'Usula K Le Guin', 'Ray Bradbury']\n",
    "\n",
    "sorted(authors, key=len)\n",
    "# print('\\n')\n",
    "# sorted(authors2, key=lambda name: name.split()[-1])"
   ]
  },
  {
   "cell_type": "code",
   "execution_count": 12,
   "metadata": {},
   "outputs": [
    {
     "data": {
      "text/plain": [
       "['Isaac Asimov',\n",
       " 'Margaret Atwood',\n",
       " 'Ray Bradbury',\n",
       " 'Octavia Butler',\n",
       " 'Usula K Le Guin',\n",
       " 'Neal Stephenson']"
      ]
     },
     "execution_count": 12,
     "metadata": {},
     "output_type": "execute_result"
    }
   ],
   "source": [
    "authors = ['Octavia Butler', 'Isaac Asimov', 'Neal Stephenson', 'Margaret Atwood', 'Usula K Le Guin', 'Ray Bradbury']\n",
    "authors2 = ['Octavia Butler', 'Isaac Asimov', 'Neal Stephenson', 'Margaret Atwood', 'Usula K Le Guin', 'Ray Bradbury']\n",
    "\n",
    "sorted(authors2, key=lambda name: name.split()[-1])"
   ]
  },
  {
   "cell_type": "code",
   "execution_count": 22,
   "metadata": {},
   "outputs": [
    {
     "name": "stdout",
     "output_type": "stream",
     "text": [
      "tipe b <class 'list'>\n",
      "2\n",
      "4\n",
      "6\n",
      "8\n",
      "10\n",
      "12\n"
     ]
    }
   ],
   "source": [
    "val = [1,2,3,4,5,6]\n",
    "#multiply every item by two\n",
    "list(map(lambda x: x*2, val))\n",
    "b = list(map(lambda x: x*2, val))\n",
    "print('tipe b',type(b))\n",
    "for i in b :\n",
    "    print(i)\n",
    "\n",
    "# Take the factorial by multiplying the value so far to the next item\n",
    "# reduce(lambda x,y : x * y, val, 1)"
   ]
  },
  {
   "cell_type": "code",
   "execution_count": 53,
   "metadata": {},
   "outputs": [
    {
     "data": {
      "text/plain": [
       "<function __main__.test_pluralize()>"
      ]
     },
     "execution_count": 53,
     "metadata": {},
     "output_type": "execute_result"
    }
   ],
   "source": [
    "dictionary = ['fox', 'boss', 'orange', 'toes', 'fairy', 'cup']\n",
    "def pluralise(words) :\n",
    "    result = []\n",
    "    for i in range(len(words)) :\n",
    "        word = words[i]\n",
    "        if word.endswith('s') or word.endswith['x'] :\n",
    "            plural +='es'\n",
    "        if word.endswith('y') :\n",
    "            plural = word[:-1] + 'ies'\n",
    "        else : \n",
    "            plural += 's'\n",
    "        result.append(plural)\n",
    "    return result\n",
    "#         result.append(word)\n",
    "#     print(result)\n",
    "#     return result\n",
    "\n",
    "def test_pluralize() :\n",
    "    pluralise(dictionary)\n",
    "    assert dictionary == ['foxes','bosses', 'oranges', 'toeses', 'fairies','cups']\n",
    "    \n",
    "# print(type(test_pluralize))\n",
    "test_pluralize    "
   ]
  },
  {
   "cell_type": "code",
   "execution_count": 36,
   "metadata": {},
   "outputs": [
    {
     "data": {
      "text/plain": [
       "{'Cacu', 'Cherry', 'Firman', 'Keya'}"
      ]
     },
     "execution_count": 36,
     "metadata": {},
     "output_type": "execute_result"
    }
   ],
   "source": [
    "class Bus(object) :\n",
    "    penumpang = set()\n",
    "    def add_penumpang(self, nama) :\n",
    "        self.penumpang.add(nama)\n",
    "        return self.penumpang\n",
    "    \n",
    "bus1 = Bus()\n",
    "bus2 = Bus()\n",
    "bus1.add_penumpang(\"Firman\")\n",
    "bus2.add_penumpang(\"Cherry\")\n",
    "bus1.add_penumpang(\"Cacu\")\n",
    "bus2.add_penumpang(\"Keya\")\n",
    "bus2.add_penumpang(\"Firman\")\n",
    "bus1.add_penumpang(\"Cherry\")\n",
    "bus2.add_penumpang(\"Cacu\")\n",
    "bus1.add_penumpang(\"Keya\")\n",
    "\n",
    "# bus1.penumpang\n",
    "bus2.penumpang"
   ]
  },
  {
   "cell_type": "code",
   "execution_count": null,
   "metadata": {},
   "outputs": [],
   "source": []
  }
 ],
 "metadata": {
  "kernelspec": {
   "display_name": "Python 3",
   "language": "python",
   "name": "python3"
  },
  "language_info": {
   "codemirror_mode": {
    "name": "ipython",
    "version": 3
   },
   "file_extension": ".py",
   "mimetype": "text/x-python",
   "name": "python",
   "nbconvert_exporter": "python",
   "pygments_lexer": "ipython3",
   "version": "3.7.3"
  }
 },
 "nbformat": 4,
 "nbformat_minor": 2
}
