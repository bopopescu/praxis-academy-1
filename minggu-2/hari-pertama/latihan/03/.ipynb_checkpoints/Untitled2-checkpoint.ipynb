{
 "cells": [
  {
   "cell_type": "code",
   "execution_count": 17,
   "metadata": {},
   "outputs": [
    {
     "name": "stdout",
     "output_type": "stream",
     "text": [
      "[1, 2, 3, 'A']\n",
      "['Tim', 1, [1, 'A', 'B']]\n",
      "(1, 2, 3, 'A')\n",
      "\n",
      "Mut2 [1, 2, 3, 'A', 'C']\n",
      "['Tim', 15, [1, 'A', 'B']]\n"
     ]
    },
    {
     "ename": "TypeError",
     "evalue": "'tuple' object does not support item assignment",
     "output_type": "error",
     "traceback": [
      "\u001b[0;31m---------------------------------------------------------------------------\u001b[0m",
      "\u001b[0;31mTypeError\u001b[0m                                 Traceback (most recent call last)",
      "\u001b[0;32m<ipython-input-17-4085d746c43c>\u001b[0m in \u001b[0;36m<module>\u001b[0;34m\u001b[0m\n\u001b[1;32m     17\u001b[0m \u001b[0mmutable_collection\u001b[0m\u001b[0;34m[\u001b[0m\u001b[0;36m1\u001b[0m\u001b[0;34m]\u001b[0m \u001b[0;34m=\u001b[0m \u001b[0;36m15\u001b[0m\u001b[0;34m\u001b[0m\u001b[0;34m\u001b[0m\u001b[0m\n\u001b[1;32m     18\u001b[0m \u001b[0mprint\u001b[0m\u001b[0;34m(\u001b[0m\u001b[0mmutable_collection\u001b[0m\u001b[0;34m)\u001b[0m\u001b[0;34m\u001b[0m\u001b[0;34m\u001b[0m\u001b[0m\n\u001b[0;32m---> 19\u001b[0;31m \u001b[0mimmutable_collection\u001b[0m\u001b[0;34m[\u001b[0m\u001b[0;36m1\u001b[0m\u001b[0;34m]\u001b[0m \u001b[0;34m=\u001b[0m \u001b[0;36m15\u001b[0m\u001b[0;34m\u001b[0m\u001b[0;34m\u001b[0m\u001b[0m\n\u001b[0m",
      "\u001b[0;31mTypeError\u001b[0m: 'tuple' object does not support item assignment"
     ]
    }
   ],
   "source": [
    "mutable_collection = ['Tim',1,[1,'A','B']]\n",
    "immutable_collection = (1,2,3,\"A\")\n",
    "mut2 = list(immutable_collection)\n",
    "print(mut2)\n",
    "mut2.append(\"C\")\n",
    "\n",
    "print(mutable_collection)\n",
    "print(immutable_collection)\n",
    "\n",
    "print('\\nMut2', mut2)\n",
    "\n",
    "mutable_collection[1] = 15\n",
    "print(mutable_collection)\n",
    "immutable_collection[1] = 15"
   ]
  },
  {
   "cell_type": "code",
   "execution_count": 19,
   "metadata": {},
   "outputs": [
    {
     "name": "stdout",
     "output_type": "stream",
     "text": [
      "Hello\n",
      "Hello\n",
      "Hello\n",
      "Hello\n",
      "Hello\n"
     ]
    }
   ],
   "source": [
    "def write_repeat(message, n) :\n",
    "    for i in range(n) :\n",
    "        print(message)\n",
    "        \n",
    "\n",
    "        \n",
    "write_repeat(\"Hello\", 5)\n",
    "\n",
    "# def fungsi(x) :\n",
    "#     return x*2\n",
    "\n",
    "# lam = lambda x : x*2"
   ]
  },
  {
   "cell_type": "code",
   "execution_count": 22,
   "metadata": {},
   "outputs": [
    {
     "name": "stderr",
     "output_type": "stream",
     "text": [
      "ERROR:root:Hello\n",
      "ERROR:root:Hello\n",
      "ERROR:root:Hello\n",
      "ERROR:root:Hello\n",
      "ERROR:root:Hello\n"
     ]
    },
    {
     "name": "stdout",
     "output_type": "stream",
     "text": [
      "Hello\n",
      "Hello\n",
      "Hello\n",
      "Hello\n",
      "Hello\n"
     ]
    }
   ],
   "source": [
    "def hof_write_repeat(message, n, action) :\n",
    "    for i in range(n) :\n",
    "        action(message)\n",
    "        \n",
    "hof_write_repeat(\"Hello\", 5, print) \n",
    "\n",
    "import logging\n",
    "# log as an error\n",
    "hof_write_repeat(\"Hello\", 5, logging.error)"
   ]
  },
  {
   "cell_type": "code",
   "execution_count": 25,
   "metadata": {},
   "outputs": [
    {
     "name": "stdout",
     "output_type": "stream",
     "text": [
      "[25, 90]\n"
     ]
    }
   ],
   "source": [
    "def add2(number) :\n",
    "    new_number = []\n",
    "    for i in number :\n",
    "        new_number.append(i+2)\n",
    "    return new_number\n",
    "        \n",
    "print(add2([23,88]))"
   ]
  },
  {
   "cell_type": "code",
   "execution_count": 26,
   "metadata": {},
   "outputs": [
    {
     "name": "stdout",
     "output_type": "stream",
     "text": [
      "[28, 60]\n",
      "[11, 12]\n"
     ]
    }
   ],
   "source": [
    "def hof_add(increment) :\n",
    "    def add_increment(numbers) :\n",
    "        new_number = []\n",
    "        for i in numbers :\n",
    "            new_number.append(i + increment)\n",
    "            \n",
    "        return new_number\n",
    "    return add_increment\n",
    "add5 = hof_add(5)\n",
    "print(add5([23,55]))\n",
    "add6 = hof_add(10)\n",
    "print(add6([1,2]))"
   ]
  },
  {
   "cell_type": "code",
   "execution_count": 31,
   "metadata": {},
   "outputs": [
    {
     "name": "stdout",
     "output_type": "stream",
     "text": [
      "36\n"
     ]
    }
   ],
   "source": [
    "def hof_product(multiplier) :\n",
    "    return lambda x : x * multiplier\n",
    "\n",
    "mult6 = hof_product(6)\n",
    "print(mult6(6))"
   ]
  },
  {
   "cell_type": "code",
   "execution_count": 37,
   "metadata": {},
   "outputs": [
    {
     "name": "stdout",
     "output_type": "stream",
     "text": [
      "<class 'map'>\n",
      "Hi Firman\n",
      "Hi Cherry\n",
      "Hi Cacu\n",
      "Hi Khaira\n"
     ]
    }
   ],
   "source": [
    "names = [\"Firman\", \"Cherry\", \"Cacu\", \"Khaira\"]\n",
    "greeted_names = map(lambda x: \"Hi \" + x, names)\n",
    "print(type(greeted_names))\n",
    "\n",
    "# print(list(greeted_names))\n",
    "for i in greeted_names :\n",
    "    print(i)"
   ]
  },
  {
   "cell_type": "code",
   "execution_count": 39,
   "metadata": {},
   "outputs": [
    {
     "name": "stdout",
     "output_type": "stream",
     "text": [
      "<class 'map'>\n",
      "2.6\n",
      "0.8\n",
      "3.6\n",
      "7.0\n"
     ]
    }
   ],
   "source": [
    "number = [13,4,18,35]\n",
    "\n",
    "div_by_5 = map(lambda x: x/5, number)\n",
    "\n",
    "print(type(div_by_5))\n",
    "\n",
    "for i in div_by_5 :\n",
    "    print(i)"
   ]
  },
  {
   "cell_type": "code",
   "execution_count": 45,
   "metadata": {},
   "outputs": [
    {
     "name": "stdout",
     "output_type": "stream",
     "text": [
      "[1, 8, 64, 125, 343, 512, 1000, 1331, 2197, 2744, 4096, 4913, 6859, 8000]\n"
     ]
    }
   ],
   "source": [
    "# combining map and filter \n",
    "arbitary_number = map(lambda x : x ** 3, filter(lambda num : num % 3, range(1,21)))\n",
    "\n",
    "print(list(arbitary_number))"
   ]
  },
  {
   "cell_type": "code",
   "execution_count": 46,
   "metadata": {},
   "outputs": [
    {
     "name": "stdout",
     "output_type": "stream",
     "text": [
      "[35]\n",
      "[27, 216, 729, 1728, 3375, 5832]\n"
     ]
    }
   ],
   "source": [
    "numbers=[13,4,18,35]\n",
    "# Instead of: filter(lambda num: num % 5 == 0, numbers), we can do\n",
    "div_by_5 = [num for num in numbers if num % 5 == 0]\n",
    "\n",
    "print(div_by_5)\n",
    "# We can manage the combined case as well:\n",
    "# Instead of: \n",
    "# map(lambda num: num ** 3, filter(lambda num: num % 3 == 0, range(1, 21)))\n",
    "arbitary_numbers = [num ** 3 for num in range(1,21) if num % 3 == 0]\n",
    "print(arbitary_numbers)"
   ]
  },
  {
   "cell_type": "code",
   "execution_count": null,
   "metadata": {},
   "outputs": [],
   "source": []
  }
 ],
 "metadata": {
  "kernelspec": {
   "display_name": "Python 3",
   "language": "python",
   "name": "python3"
  },
  "language_info": {
   "codemirror_mode": {
    "name": "ipython",
    "version": 3
   },
   "file_extension": ".py",
   "mimetype": "text/x-python",
   "name": "python",
   "nbconvert_exporter": "python",
   "pygments_lexer": "ipython3",
   "version": "3.7.3"
  }
 },
 "nbformat": 4,
 "nbformat_minor": 2
}
