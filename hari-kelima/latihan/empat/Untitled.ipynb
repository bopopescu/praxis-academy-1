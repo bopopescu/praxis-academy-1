{
 "cells": [
  {
   "cell_type": "code",
   "execution_count": 29,
   "metadata": {},
   "outputs": [
    {
     "name": "stdout",
     "output_type": "stream",
     "text": [
      "<class 'str'>\n",
      "[1, 2, 3, \"a\", \"b\", \"c\"]\n",
      "\n",
      "Json loads\n",
      "[1, 2, 3, 'a', 'b', 'c']\n",
      "<class 'list'>\n"
     ]
    }
   ],
   "source": [
    "import json\n",
    "json_string = json.dumps([1,2,3,'a','b','c'])\n",
    "print(type(json_string))\n",
    "\n",
    "print(json_string)\n",
    "print('\\nJson loads')\n",
    "print(json.loads(json_string))\n",
    "print(type(json.loads(json_string)))"
   ]
  },
  {
   "cell_type": "code",
   "execution_count": 7,
   "metadata": {},
   "outputs": [
    {
     "name": "stdout",
     "output_type": "stream",
     "text": [
      "b'\\x80\\x03X\\x18\\x00\\x00\\x00[1, 2, 3, \"a\", \"b\", \"c\"]q\\x00.'\n",
      "\n",
      "\n",
      "[1, 2, 3, \"a\", \"b\", \"c\"]\n",
      "json string is pickled_string ? False\n",
      "jsong string same as pickled_string ? True\n"
     ]
    }
   ],
   "source": [
    "import pickle\n",
    "json_string = json.dumps([1,2,3,'a','b','c'])\n",
    "pickled_string = pickle.dumps(json_string)\n",
    "data_structur = pickle.loads(pickled_string)\n",
    "print(pickled_string)\n",
    "print('\\n')\n",
    "print(data_structur)\n",
    "\n",
    "print(\"json string is pickled_string ?\",(json_string is data_structur))\n",
    "print(\"jsong string same as pickled_string ?\", (json_string == data_structur))"
   ]
  },
  {
   "cell_type": "code",
   "execution_count": 35,
   "metadata": {},
   "outputs": [
    {
     "name": "stdout",
     "output_type": "stream",
     "text": [
      "ini adalah salaries {\"Alfred\":3000, \"Jane\" : 4000}\n",
      "\n",
      "tipe salaries adalah <class 'str'>\n",
      "\n",
      "Merubah string menjadi json/dict dengan json.loads(salaries_json)\n",
      "<class 'dict'>\n",
      "\n",
      "Merubah json/dict menjadi string kembali dengan json.dumps(salari)\n",
      "<class 'str'>\n",
      "3000\n",
      "4000\n",
      "8000\n"
     ]
    }
   ],
   "source": [
    "import json\n",
    "\n",
    "# fix this function, so it adds the given name\n",
    "# and salary pair to salaries_json, and return it\n",
    "def add_employee(salaries_json, name, salary) :\n",
    "    # add your code here\n",
    "#     print(type(salaries_json))\n",
    "    # merubah string menjadi json/dict\n",
    "    decoded = json.loads(salaries_json)\n",
    "    print(\"\\nMerubah string menjadi json/dict dengan json.loads(salaries_json)\")\n",
    "    print(type(decoded))\n",
    "    decoded[name] = salary\n",
    "    print(\"\\nMerubah json/dict menjadi string kembali dengan json.dumps(salari)\")\n",
    "    json_dump = json.dumps(decoded)\n",
    "    print(type(json_dump))\n",
    "    return json_dump\n",
    "\n",
    "\n",
    "#test code\n",
    "salaries= '{\"Alfred\":3000, \"Jane\" : 4000}'\n",
    "print(\"ini adalah salaries\", salaries)\n",
    "print(\"\\ntipe salaries adalah {}\".format(type(salaries)))\n",
    "new_salaries = add_employee(salaries, \"Me\", 8000)\n",
    "decoded_salaries = json.loads(new_salaries)\n",
    "print(decoded_salaries[\"Alfred\"])\n",
    "print(decoded_salaries[\"Jane\"])\n",
    "print(decoded_salaries[\"Me\"])"
   ]
  },
  {
   "cell_type": "code",
   "execution_count": 24,
   "metadata": {},
   "outputs": [
    {
     "ename": "SyntaxError",
     "evalue": "invalid syntax (<ipython-input-24-f052aa75f372>, line 2)",
     "output_type": "error",
     "traceback": [
      "\u001b[0;36m  File \u001b[0;32m\"<ipython-input-24-f052aa75f372>\"\u001b[0;36m, line \u001b[0;32m2\u001b[0m\n\u001b[0;31m    string = ['a':2000,'b':3000]\u001b[0m\n\u001b[0m                 ^\u001b[0m\n\u001b[0;31mSyntaxError\u001b[0m\u001b[0;31m:\u001b[0m invalid syntax\n"
     ]
    }
   ],
   "source": [
    "import json\n",
    "string = ['a':2000,'b':3000]\n",
    "json_string = json.dumps(string)\n",
    "print(json.loads(json_string))"
   ]
  },
  {
   "cell_type": "code",
   "execution_count": null,
   "metadata": {},
   "outputs": [],
   "source": []
  }
 ],
 "metadata": {
  "kernelspec": {
   "display_name": "Python 3",
   "language": "python",
   "name": "python3"
  },
  "language_info": {
   "codemirror_mode": {
    "name": "ipython",
    "version": 3
   },
   "file_extension": ".py",
   "mimetype": "text/x-python",
   "name": "python",
   "nbconvert_exporter": "python",
   "pygments_lexer": "ipython3",
   "version": "3.7.3"
  }
 },
 "nbformat": 4,
 "nbformat_minor": 2
}
