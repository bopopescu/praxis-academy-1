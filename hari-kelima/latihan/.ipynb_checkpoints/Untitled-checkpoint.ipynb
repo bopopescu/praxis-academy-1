{
 "cells": [
  {
   "cell_type": "code",
   "execution_count": 21,
   "metadata": {},
   "outputs": [
    {
     "name": "stdout",
     "output_type": "stream",
     "text": [
      "Writing : pickle elkcip\n",
      "Writing : cPickle elkciPc\n",
      "Writing : last tsal\n"
     ]
    }
   ],
   "source": [
    "import pickle\n",
    "from io import BytesIO\n",
    "\n",
    "class SimpleObject(object) :\n",
    "    def __init__(self, name) :\n",
    "        self.name = name\n",
    "        l = list(name)\n",
    "        l.reverse()\n",
    "        self.name_backwards = ''.join(l)\n",
    "        return\n",
    "    \n",
    "data = []\n",
    "data.append(SimpleObject('pickle'))\n",
    "data.append(SimpleObject('cPickle'))\n",
    "data.append(SimpleObject('last'))\n",
    "\n",
    "# simulate a file string with StringIO\n",
    "out_s = BytesIO()\n",
    "\n",
    "# Write to the string\n",
    "for o in data :\n",
    "    print('Writing : {} {}'.format(o.name, o.name_backwards))\n",
    "    pickle.dump(o, out_s)\n",
    "    out_s.flush()"
   ]
  },
  {
   "cell_type": "code",
   "execution_count": 13,
   "metadata": {},
   "outputs": [
    {
     "name": "stdout",
     "output_type": "stream",
     "text": [
      "Pickle b'\\x80\\x03]q\\x00}q\\x01(X\\x01\\x00\\x00\\x00aq\\x02X\\x01\\x00\\x00\\x00Aq\\x03X\\x01\\x00\\x00\\x00bq\\x04K\\x02X\\x01\\x00\\x00\\x00cq\\x05G@\\x08\\x00\\x00\\x00\\x00\\x00\\x00ua.'\n"
     ]
    }
   ],
   "source": [
    "import pickle\n",
    "data = [{'a' : 'A', 'b' : 2, 'c':3.0}]\n",
    "data_string = pickle.dumps(data)\n",
    "print('Pickle', data_string)"
   ]
  },
  {
   "cell_type": "code",
   "execution_count": null,
   "metadata": {},
   "outputs": [],
   "source": [
    "import pickle \n",
    "from io import BytesIO\n",
    "\n",
    "class SimpleObject(object) :\n",
    "    def __init__(self, name) :\n",
    "        self.name = name\n",
    "        l = list(name)\n",
    "        l.reverse()\n",
    "        self.name_backwards= ''.join(l)\n",
    "        return \n",
    "    \n",
    "data = []\n",
    "data.append(SimpleObject('pickle'))\n",
    "data.append(SimpleObject('cPickle'))\n",
    "data.append(SimpleObject('last'))\n",
    "\n",
    "out_s = BytesIO()\n",
    "\n",
    "# write to the stream\n",
    "for o in data :\n",
    "    print('Writing {} {}'.format(o.name, o.name_backwards))\n",
    "    pickle.dump(o, out_s)\n",
    "    out_s.flush()\n",
    "    \n",
    "#setup a readable stream\n",
    "in_s = BytesIO(out_s.getvalue())\n",
    "\n",
    "# Read the data\n",
    "while True :\n",
    "    try :\n",
    "        o = pickle.load(in_s)\n",
    "    except EOFError :\n",
    "        print(\"Error\")\n",
    "        break\n",
    "    else :\n",
    "        print('Read {} {}'.format(o.name, o.name_backwards))"
   ]
  },
  {
   "cell_type": "code",
   "execution_count": null,
   "metadata": {},
   "outputs": [],
   "source": [
    "import pickle \n",
    "import pprint\n",
    "\n",
    "data1 = [{'a' : 'A', 'b': 2, 'c': 3.0}]\n",
    "print('Before')\n",
    "pprint.pprint(data1)\n",
    "\n",
    "data1_string = pickle.dumps(data1)\n",
    "\n",
    "data2 = pickel.loads(data1_string)\n",
    "print('After')\n",
    "pprint.pprint(data2)\n",
    "\n",
    "print('Same ?', (data1 is data2))\n",
    "print('Equal ?', (data1 == data2))"
   ]
  },
  {
   "cell_type": "code",
   "execution_count": null,
   "metadata": {},
   "outputs": [],
   "source": []
  }
 ],
 "metadata": {
  "kernelspec": {
   "display_name": "Python 3",
   "language": "python",
   "name": "python3"
  },
  "language_info": {
   "codemirror_mode": {
    "name": "ipython",
    "version": 3
   },
   "file_extension": ".py",
   "mimetype": "text/x-python",
   "name": "python",
   "nbconvert_exporter": "python",
   "pygments_lexer": "ipython3",
   "version": "3.7.3"
  }
 },
 "nbformat": 4,
 "nbformat_minor": 2
}
