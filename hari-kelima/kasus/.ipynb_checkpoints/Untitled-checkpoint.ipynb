{
 "cells": [
  {
   "cell_type": "code",
   "execution_count": 30,
   "metadata": {},
   "outputs": [
    {
     "name": "stdout",
     "output_type": "stream",
     "text": [
      "\n",
      "\n",
      "{'id': 'Open'}\n",
      "{'id': 'OpenNew', 'label': 'Open New'}\n",
      "None\n",
      "{'id': 'ZoomIn', 'label': 'Zoom In'}\n",
      "{'id': 'ZoomOut', 'label': 'Zoom Out'}\n",
      "{'id': 'OriginalView', 'label': 'Original View'}\n",
      "None\n",
      "{'id': 'Quality'}\n",
      "{'id': 'Pause'}\n",
      "{'id': 'Mute'}\n",
      "None\n",
      "{'id': 'Find', 'label': 'Find...'}\n",
      "{'id': 'FindAgain', 'label': 'Find Again'}\n",
      "{'id': 'Copy'}\n",
      "{'id': 'CopyAgain', 'label': 'Copy Again'}\n",
      "{'id': 'CopySVG', 'label': 'Copy SVG'}\n",
      "{'id': 'ViewSVG', 'label': 'View SVG'}\n",
      "{'id': 'ViewSource', 'label': 'View Source'}\n",
      "{'id': 'SaveAs', 'label': 'Save As'}\n",
      "None\n",
      "{'id': 'Help'}\n",
      "{'id': 'About', 'label': 'About Adobe CVG Viewer...'}\n"
     ]
    }
   ],
   "source": [
    "import json\n",
    "# with open('menu.json', 'r') as f :\n",
    "#     data = json.load(f)\n",
    "    \n",
    "file_json = open('menu.json')\n",
    "data = json.loads(file_json.read())\n",
    "# print(data['menu']['items'][0])\n",
    "print('\\n')\n",
    "for men in data['menu']['items'] :\n",
    "    print(\"{}\".format(men))"
   ]
  },
  {
   "cell_type": "code",
   "execution_count": 31,
   "metadata": {},
   "outputs": [
    {
     "name": "stdout",
     "output_type": "stream",
     "text": [
      "Item #2 attribute \n",
      "{'action': 'Open', 'id': 'Open'}\n",
      "{'action': 'Open', 'id': 'Open'}\n",
      "{'action': 'OpenNew', 'id': 'OpenNew'}\n",
      "{}\n",
      "{'action': 'ZoomIn', 'id': 'ZoomIn'}\n",
      "{'action': 'ZoomOut', 'id': 'ZoomOut'}\n",
      "{'action': 'OriginalView', 'id': 'OriginalView'}\n",
      "{}\n",
      "{'action': 'Quality', 'id': 'Quality'}\n",
      "{'action': 'Pause', 'id': 'Pause'}\n",
      "{'action': 'Mute', 'id': 'Mute'}\n",
      "{}\n",
      "{'action': 'Find', 'id': 'Find'}\n",
      "{'action': 'FindAgain', 'id': 'FindAgain'}\n",
      "{'action': 'Copy', 'id': 'Copy'}\n",
      "{'action': 'CopyAgain', 'id': 'CopyAgain'}\n",
      "{'action': 'CopySVG', 'id': 'CopySVG'}\n",
      "{'action': 'ViewSVG', 'id': 'ViewSVG'}\n",
      "{'action': 'ViewSource', 'id': 'ViewSource'}\n",
      "{'action': 'SaveAs', 'id': 'SaveAs'}\n",
      "{}\n",
      "{'action': 'Help', 'id': 'Help'}\n",
      "{'action': 'About', 'id': 'About'}\n",
      "\n",
      "Item #2 data :\n",
      "Open\n"
     ]
    }
   ],
   "source": [
    "import xml.etree.ElementTree as ET\n",
    "tree = ET.parse('menu.xml')\n",
    "root = tree.getroot()\n",
    "# print(root[0].attrib)\n",
    "\n",
    "#one specific item per item\n",
    "print('Item #2 attribute ')\n",
    "print(root[0].attrib)\n",
    "\n",
    "# all items attributes\n",
    "for elem in root :\n",
    "    print(elem.attrib)\n",
    "    \n",
    "# one specific item data\n",
    "print('\\nItem #2 data :')\n",
    "print(root[0].text)\n",
    "\n",
    "# all items data\n",
    "for elem in root :\n",
    "    for subelem in elem :\n",
    "        print(subelem.text)"
   ]
  },
  {
   "cell_type": "code",
   "execution_count": null,
   "metadata": {},
   "outputs": [],
   "source": []
  },
  {
   "cell_type": "code",
   "execution_count": null,
   "metadata": {},
   "outputs": [],
   "source": []
  }
 ],
 "metadata": {
  "kernelspec": {
   "display_name": "Python 3",
   "language": "python",
   "name": "python3"
  },
  "language_info": {
   "codemirror_mode": {
    "name": "ipython",
    "version": 3
   },
   "file_extension": ".py",
   "mimetype": "text/x-python",
   "name": "python",
   "nbconvert_exporter": "python",
   "pygments_lexer": "ipython3",
   "version": "3.7.3"
  }
 },
 "nbformat": 4,
 "nbformat_minor": 2
}
