{
 "cells": [
  {
   "cell_type": "code",
   "execution_count": 1,
   "metadata": {},
   "outputs": [
    {
     "name": "stdout",
     "output_type": "stream",
     "text": [
      "{'menu': {'header': 'SVG Viewer', 'items': [{'id': 'Open'}, {'id': 'OpenNew', 'label': 'Open New'}, None, {'id': 'ZoomIn', 'label': 'Zoom In'}, {'id': 'ZoomOut', 'label': 'Zoom Out'}, {'id': 'OriginalView', 'label': 'Original View'}, None, {'id': 'Quality'}, {'id': 'Pause'}, {'id': 'Mute'}, None, {'id': 'Find', 'label': 'Find...'}, {'id': 'FindAgain', 'label': 'Find Again'}, {'id': 'Copy'}, {'id': 'CopyAgain', 'label': 'Copy Again'}, {'id': 'CopySVG', 'label': 'Copy SVG'}, {'id': 'ViewSVG', 'label': 'View SVG'}, {'id': 'ViewSource', 'label': 'View Source'}, {'id': 'SaveAs', 'label': 'Save As'}, None, {'id': 'Help'}, {'id': 'About', 'label': 'About Adobe CVG Viewer...'}]}}\n"
     ]
    }
   ],
   "source": [
    "import json\n",
    "with open('menu.json', 'r') as f :\n",
    "    data = json.load(f)\n",
    "    \n",
    "print(data)"
   ]
  },
  {
   "cell_type": "code",
   "execution_count": 14,
   "metadata": {},
   "outputs": [
    {
     "name": "stdout",
     "output_type": "stream",
     "text": [
      "Item #2 attribute \n",
      "{'action': 'Open', 'id': 'Open'}\n",
      "{'action': 'Open', 'id': 'Open'}\n",
      "{'action': 'OpenNew', 'id': 'OpenNew'}\n",
      "{}\n",
      "{'action': 'ZoomIn', 'id': 'ZoomIn'}\n",
      "{'action': 'ZoomOut', 'id': 'ZoomOut'}\n",
      "{'action': 'OriginalView', 'id': 'OriginalView'}\n",
      "{}\n",
      "{'action': 'Quality', 'id': 'Quality'}\n",
      "{'action': 'Pause', 'id': 'Pause'}\n",
      "{'action': 'Mute', 'id': 'Mute'}\n",
      "{}\n",
      "{'action': 'Find', 'id': 'Find'}\n",
      "{'action': 'FindAgain', 'id': 'FindAgain'}\n",
      "{'action': 'Copy', 'id': 'Copy'}\n",
      "{'action': 'CopyAgain', 'id': 'CopyAgain'}\n",
      "{'action': 'CopySVG', 'id': 'CopySVG'}\n",
      "{'action': 'ViewSVG', 'id': 'ViewSVG'}\n",
      "{'action': 'ViewSource', 'id': 'ViewSource'}\n",
      "{'action': 'SaveAs', 'id': 'SaveAs'}\n",
      "{}\n",
      "{'action': 'Help', 'id': 'Help'}\n",
      "{'action': 'About', 'id': 'About'}\n",
      "\n",
      "Item #2 data :\n",
      "Open\n"
     ]
    }
   ],
   "source": [
    "import xml.etree.ElementTree as ET\n",
    "tree = ET.parse('menu.xml')\n",
    "root = tree.getroot()\n",
    "# print(root[0].attrib)\n",
    "\n",
    "#one specific item per item\n",
    "print('Item #2 attribute ')\n",
    "print(root[0].attrib)\n",
    "\n",
    "# all items attributes\n",
    "for elem in root :\n",
    "    print(elem.attrib)\n",
    "    \n",
    "# one specific item data\n",
    "print('\\nItem #2 data :')\n",
    "print(root[0].text)\n",
    "\n",
    "# all items data\n",
    "for elem in root :\n",
    "    for subelem in elem :\n",
    "        print(subelem.text)"
   ]
  },
  {
   "cell_type": "code",
   "execution_count": null,
   "metadata": {},
   "outputs": [],
   "source": []
  }
 ],
 "metadata": {
  "kernelspec": {
   "display_name": "Python 3",
   "language": "python",
   "name": "python3"
  },
  "language_info": {
   "codemirror_mode": {
    "name": "ipython",
    "version": 3
   },
   "file_extension": ".py",
   "mimetype": "text/x-python",
   "name": "python",
   "nbconvert_exporter": "python",
   "pygments_lexer": "ipython3",
   "version": "3.7.3"
  }
 },
 "nbformat": 4,
 "nbformat_minor": 2
}
