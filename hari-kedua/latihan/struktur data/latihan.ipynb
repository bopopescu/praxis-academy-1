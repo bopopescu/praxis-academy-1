(base) firman@firman-VirtualBox:~/praxis-academy$ >>> fruits = ['orange', 'apple', 'pear', 'bananna', 'kiwi','apple', 'bananna']
bash: syntax error near unexpected token `>'
(base) firman@firman-VirtualBox:~/praxis-academy$ fruits = ['orange', 'apple', 'pear', 'bananna', 'kiwi','apple', 'bananna']

Command 'fruits' not found, did you mean:

  command 'fruit' from deb fruit

Try: sudo apt install <deb name>

(base) firman@firman-VirtualBox:~/praxis-academy$ >>>fuits = ['orange', 'apple', 'pear', 'bananna', 'kiwi','apple', 'bananna']
bash: syntax error near unexpected token `>'
(base) firman@firman-VirtualBox:~/praxis-academy$ python3
Python 3.7.3 (default, Mar 27 2019, 22:11:17)
[GCC 7.3.0] :: Anaconda, Inc. on linux
Type "help", "copyright", "credits" or "license" for more information.
>>> fruits = ['orange', 'apple', 'pear', 'banana', 'kiwi', 'apple', 'banana']
>>> fruits.count('banana')
2
>>> fruits.count('tangerine')
0
>>> fruits.count('bananna")
  File "<stdin>", line 1
    fruits.count('bananna")
                          ^
SyntaxError: EOL while scanning string literal
>>> fruits.count('bananna')
0
>>> fruits.count('banana')
2
>>> fruits.index('banana', 4)
6
>>> fruits.reverse()
>>> fruits
['banana', 'apple', 'kiwi', 'banana', 'pear', 'apple', 'orange']
>>> fruits.append('grape)
  File "<stdin>", line 1
    fruits.append('grape)
                        ^
SyntaxError: EOL while scanning string literal
>>> fruits.append('grape')
>>> fruits
['banana', 'apple', 'kiwi', 'banana', 'pear', 'apple', 'orange', 'grape']
>>> fruits.sort()
>>> fruits
['apple', 'apple', 'banana', 'banana', 'grape', 'kiwi', 'orange', 'pear']
>>> fruits.pop()
'pear'
>>> stack = [3,4,5]
>>> stack.append(6)
>>> stack.append(7)
>>> stack
[3, 4, 5, 6, 7]
>>> stack.pop()
7
>>> stack
[3, 4, 5, 6]
>>> stack.pop()
6
>>> stack
[3, 4, 5]
>>> stack.pop()
5
>>> stack
[3, 4]
>>> from collections import deque
>>> queue = deque(["Eric", "John","Michael"])
>>> queue.append("Terry")
>>> queue.append("Graham")
>>> queue.popleft()
'Eric'
>>> queue.popleft()
'John'
>>> queue
deque(['Michael', 'Terry', 'Graham'])
>>> squares = []
>>> for x in range(10) :
... squares.append(x**2)
  File "<stdin>", line 2
    squares.append(x**2)
          ^
IndentationError: expected an indented block
>>> squares = []
>>> for x in range(10) :
...     squares.append(x**2)
... squares
  File "<stdin>", line 3
    squares
          ^
SyntaxError: invalid syntax
>>> squares = []
>>> for x in range(10) :
...     squares.append(x**2)
...
>>> squares
[0, 1, 4, 9, 16, 25, 36, 49, 64, 81]
>>> squares = list(map(lambda x: x**2, range(10))
... for x in range(10) :
  File "<stdin>", line 2
    for x in range(10) :
                       ^
SyntaxError: invalid syntax
>>> squares = [x**2 for x in range(10)]
>>>
>>> squares
[0, 1, 4, 9, 16, 25, 36, 49, 64, 81]
>>> squares = list(map(lambda x: x**2, ranget(10)]
  File "<stdin>", line 1
    squares = list(map(lambda x: x**2, ranget(10)]
                                                 ^
SyntaxError: invalid syntax
>>> squares = list(map(lambda x: x**2, ranget(10))
...
... squares
  File "<stdin>", line 3
    squares
          ^
SyntaxError: invalid syntax
>>> squares = list(map(lambda x: x**2, ranget(10)))
Traceback (most recent call last):
  File "<stdin>", line 1, in <module>
NameError: name 'ranget' is not defined
>>> [(x,y) for x in [1,2,3] for y in [3,1,4] if x !=y ]
[(1, 3), (1, 4), (2, 3), (2, 1), (2, 4), (3, 1), (3, 4)]
>>> vec= [-4, -2, 0,2,4]
>>> ## create a new list with value doubled
...
>>> # create a new list with value doubled
... [x*2 for x in vec]
[-8, -4, 0, 4, 8]
>>> # filter the list to exclude negative number
... [x for x in vec if x >= 0]
[0, 2, 4]
>>> # apply a function to all elements
... sdf
Traceback (most recent call last):
  File "<stdin>", line 2, in <module>
NameError: name 'sdf' is not defined
>>> # apply a function to all element
... j
Traceback (most recent call last):
  File "<stdin>", line 2, in <module>
NameError: name 'j' is not defined
>>> # apply a function to all elements
... [abs(x) for x in vec]
[4, 2, 0, 2, 4]
>>> # call a method to all elements
...
>>> # call a method on each element
... freshfruit=[' banana ', ' loganberry ', 'passsion fruit ']
>>> [weapon.strip() for weapon in freshfruit]
['banana', 'loganberry', 'passsion fruit']
>>> # create a list of 2-tupples like(numbber, square)
... [(x, x**2) for x in range(6)]
[(0, 0), (1, 1), (2, 4), (3, 9), (4, 16), (5, 25)]
>>> # the tupple must be parenthesized, otherwise the error is raised
... [x, x**2 for x in range(6)]
  File "<stdin>", line 2
    [x, x**2 for x in range(6)]
               ^
SyntaxError: invalid syntax
>>> # flatten a list with a listcomp with two for
... vec = [[1,2,3], [4,5,6], [7,8,9]]
>>> [num for elem in vec for enum in elem]
Traceback (most recent call last):
  File "<stdin>", line 1, in <module>
  File "<stdin>", line 1, in <listcomp>
NameError: name 'num' is not defined
>>> [num for elem in vec for num in elem]
[1, 2, 3, 4, 5, 6, 7, 8, 9]
>>> from math import pi
>>> [str(round(pi,i) for i in range(1,6)]
  File "<stdin>", line 1
    [str(round(pi,i) for i in range(1,6)]
                                        ^
SyntaxError: invalid syntax
>>> [str(round(pi,i)) for i in range(1,6)]
['3.1', '3.14', '3.142', '3.1416', '3.14159']
>>> matrix = [
... [1,2,3,4]
... ,
... [5,6,7,8],
... [9,10,11,12],]
>>> [[row[i] for row in matrix] for i in range(4)]
[[1, 5, 9], [2, 6, 10], [3, 7, 11], [4, 8, 12]]
>>> transposed = []
>>> for in in range(4) :
  File "<stdin>", line 1
    for in in range(4) :
         ^
SyntaxError: invalid syntax
>>> for i in range(4) :
...     transpose.append([row[i] for row in matrix])
...
Traceback (most recent call last):
  File "<stdin>", line 2, in <module>
NameError: name 'transpose' is not defined
>>> for i in range(4) :
...     transposed.append([row[i] for row in matrix])
...
>>> transposed
[[1, 5, 9], [2, 6, 10], [3, 7, 11], [4, 8, 12]]
>>> list(zip(*matrix))
[(1, 5, 9), (2, 6, 10), (3, 7, 11), (4, 8, 12)]
>>> a = [-1, 1, 66.25, 333, 333, 1234.5]
>>> del a[0]
>>> a
[1, 66.25, 333, 333, 1234.5]
>>> del a[2:4]
>>> a
[1, 66.25, 1234.5]
>>> del a[:]
>>> a
[]
>>> t = 12345, 54321, 'hello!'
>>> t[0]
12345
>>> t
(12345, 54321, 'hello!')
>>> # tupple may be nested
... u = t, (1,2,3,4,5)
>>> u
((12345, 54321, 'hello!'), (1, 2, 3, 4, 5))
>>> # tupple are immutable
... t[0[ = 8888
  File "<stdin>", line 2
    t[0[ = 8888
         ^
SyntaxError: invalid syntax
>>> # but they containe multiple objects
... v = ([1,2,3]. [3,2,1])
  File "<stdin>", line 2
    v = ([1,2,3]. [3,2,1])
                  ^
SyntaxError: invalid syntax
>>> v = ([1,2,3], [3,2,1])
>>> v
([1, 2, 3], [3, 2, 1])
>>> empty=()
>>> singleton = 'hello!',
>>> len(empty)
0
>>> len(singleton)
1
>>> singleton
('hello!',)
>>> t = 12345,54321,'hello!'
>>> x,y,z = t
>>> x
12345
>>> y
54321
>>> z
'hello!'
>>> # x mengambil index 0, y mengambil index 1, z mengambil index 2
... basket = {'apple', 'orange', 'apple', 'pear', 'orange', 'banana'}
>>> print(basket)
{'pear', 'banana', 'orange', 'apple'}
>>> # duplikat has been removed
... 'orange' in basket
True
>>> 'crabgrass' in basket
False
>>> # demonstrates set operations on unique letters for two words
... a = set('assalamualaykum')
>>> b = set('waalaykum salam warrahmatullahi wabarakatuh')
>>> a # unique letter in a
{'s', 'a', 'l', 'm', 'u', 'y', 'k'}
>>> b # unique letter in b
{'s', 'a', 'l', ' ', 'm', 'w', 'u', 'r', 'i', 'b', 't', 'y', 'k', 'h'}
>>> a - b # letters in a but not in b
set()
>>> a | b # letters in a or b or both
{'a', 'l', 'r', 'u', 'b', 't', 'k', 's', ' ', 'm', 'w', 'i', 'y', 'h'}
>>> a & b # letter in both a an b
{'s', 'a', 'l', 'm', 'u', 'y', 'k'}
>>> a ^ b # letter in a or b but not both
{' ', 'w', 'r', 'i', 'b', 't', 'h'}
>>> tel = {'jake': 4098, 'sape' :3423}
>>> tel['guido']=9854
>>> tel
{'jake': 4098, 'sape': 3423, 'guido': 9854}
>>> tel['jack']
Traceback (most recent call last):
  File "<stdin>", line 1, in <module>
KeyError: 'jack'
>>> tel['jake']
4098
>>> del tel['sape']
>>> tel['irv']=8675
>>> tel
{'jake': 4098, 'guido': 9854, 'irv': 8675}
>>> list(tel)
['jake', 'guido', 'irv']
>>> sorted(tel)
['guido', 'irv', 'jake']
>>> 'guido' in tel
True
>>> 'jack' in tel
False
>>> dict([('sape', 4139), ('guido',3231),('jack', 4098)])
{'sape': 4139, 'guido': 3231, 'jack': 4098}
>>> {x: x**2 for x in {2,4,6)}
  File "<stdin>", line 1
    {x: x**2 for x in {2,4,6)}
                            ^
SyntaxError: invalid syntax
>>> {x: x**2 for x in (2,4,6)}
{2: 4, 4: 16, 6: 36}
>>> dict(sape=4139, guido=3423, jack=9456)
{'sape': 4139, 'guido': 3423, 'jack': 9456}
>>> knights = {'gallahad':'the pure', 'robin':'the brave'}
>>> for k, v in knights.items() :
...     print(k,v)
...
gallahad the pure
robin the brave
>>> for i, v in enumerate(['tic','tac','toe'])
  File "<stdin>", line 1
    for i, v in enumerate(['tic','tac','toe'])
                                             ^
SyntaxError: invalid syntax
>>> for i, v in enumerate(['tic','tac','toe']) :
...     print(i,v)
...
0 tic
1 tac
2 toe
>>> questions = ['name', 'quest', 'favorite color']
>>> answers =['lancelot', 'the holly grail, 'white']
  File "<stdin>", line 1
    answers =['lancelot', 'the holly grail, 'white']
                                                 ^
SyntaxError: invalid syntax
>>> answers =['lancelot', 'the holly grail', 'white']
>>> for q,a in zip(questions, answers) :
...     print('What is your {0} ? it is {1}'.format(q,a))
...
What is your name ? it is lancelot
What is your quest ? it is the holly grail
What is your favorite color ? it is white
>>> for i in reversed(range(1,10,2)) :
...     print(i)
...
9
7
5
3
1
>>> basket = ['apple', 'orange', 'apple', 'pear', 'orange', 'banana']
>>> for in in sorted(set(basket)) :
  File "<stdin>", line 1
    for in in sorted(set(basket)) :
         ^
SyntaxError: invalid syntax
>>> for i in sorted(set(basket)) :
...     print(1)
...
1
1
1
1
>>> basket = ['apple', 'orange', 'apple', 'pear', 'orange', 'banana']
>>> for i in sorted(set(basket)) :
...     print(i)
...
apple
banana
orange
pear
>>> import math
>>> raw_data = [56.2, float('Nan'), 51.7, 55.3, 52.5, float('Nan'), 47.8]
>>> filtered_data = []
>>> for value in raw_data :
...     if not math.isnan(value) :
...             filtered_data.append(value)
...
>>> filtered_data
[56.2, 51.7, 55.3, 52.5, 47.8]
>>> string1, string2, string3 = '', 'Trondheim', 'Hammer Dance'
>>> non_null = string1 or string2 or string3
>>> non_null
'Trondheim'
>>> (1,2,3) < (1,2,4)
True
>>> [1,2,3] < [1,2,4]
True
>>> 'ABC' < 'C' < 'Pasal' < 'Python'
True
>>> (1,2,3,4) < (1,2,4)
True
>>> (1,2) < (1,2,-1)
True
>>> (1,2,3) == (1.0, 2.0, 3.0)
True
>>> (1,2,('aa', 'bb')) < (1,2,('abc', 'a), 4)
  File "<stdin>", line 1
    (1,2,('aa', 'bb')) < (1,2,('abc', 'a), 4)
                                            ^
SyntaxError: EOL while scanning string literal
>>> (1,2,('aa', 'bb')) < (1,2,('abc', 'a'), 4)
True
>>> AAAAAAAAAAAAAAAAAA
[1]+  Stopped                 python3
(base) firman@firman-VirtualBox:~/praxis-academy$ ^C
(base) firman@firman-VirtualBox:~/praxis-academy$
