{
 "cells": [
  {
   "cell_type": "code",
   "execution_count": 3,
   "metadata": {},
   "outputs": [
    {
     "name": "stdout",
     "output_type": "stream",
     "text": [
      "fido says Woof\n",
      "Isis says Meow\n"
     ]
    }
   ],
   "source": [
    "class Animal :\n",
    "    def __init__(self, name) :\n",
    "        self.nama = name\n",
    "        \n",
    "    def speak(self) :\n",
    "        raise NotImplementedError(\"Subsclass must implement abstract error\")\n",
    "        \n",
    "class Dog(Animal) :\n",
    "    def speak(self) :\n",
    "        return self.nama+ ' says Woof'\n",
    "\n",
    "class Cat(Animal) :\n",
    "    def speak(self) :\n",
    "        return self.nama+ ' says Meow'\n",
    "    \n",
    "fido = Dog('fido')\n",
    "isis = Cat('Isis')\n",
    "\n",
    "print(fido.speak())\n",
    "print(isis.speak())"
   ]
  },
  {
   "cell_type": "code",
   "execution_count": 7,
   "metadata": {},
   "outputs": [
    {
     "name": "stdout",
     "output_type": "stream",
     "text": [
      "Yogi\n",
      "4\n",
      "yes\n"
     ]
    }
   ],
   "source": [
    "class Animal :\n",
    "    def __init__(self, name, legs) :\n",
    "        self.nama = name \n",
    "        self.lengan = legs\n",
    "    \n",
    "class Bear(Animal) :\n",
    "    def __init__(self, name, legs=4, hibernate = 'yes') :\n",
    "        Animal.__init__(self, name, legs)\n",
    "        self.hibernate = hibernate\n",
    "        \n",
    "yogi = Bear('Yogi')\n",
    "print(yogi.nama)\n",
    "print(yogi.lengan)\n",
    "print(yogi.hibernate)"
   ]
  },
  {
   "cell_type": "code",
   "execution_count": 13,
   "metadata": {},
   "outputs": [
    {
     "name": "stdout",
     "output_type": "stream",
     "text": [
      "4\n",
      "Electric\n",
      "60\n",
      "0\n",
      "60\n",
      "\n",
      "\n",
      "4\n",
      "Gasoline\n",
      "20\n",
      "0\n",
      "\n",
      "\n",
      "5\n",
      "0\n",
      "5\n"
     ]
    }
   ],
   "source": [
    "class Car :\n",
    "    def __init__(self, wheels=4) :\n",
    "        self.ban=wheels\n",
    "        \n",
    "class Gasoline(Car) :\n",
    "    def __init__(self, engine='Gasoline', tank_cap =20) :\n",
    "        Car.__init__(self)\n",
    "        self.mesin = engine\n",
    "        self.tengki = tank_cap\n",
    "        self.tank = 0\n",
    "        \n",
    "class Electric(Car) :\n",
    "    def __init__(self, engine='Electric', kwh_cap=60) :\n",
    "        Car.__init__(self) \n",
    "        self.mesin = engine \n",
    "        self.tengki=kwh_cap\n",
    "        self.kwh =0\n",
    "        \n",
    "    def recharge(self) :\n",
    "        self.kwh = self.tengki\n",
    "        \n",
    "class Hybrid(Gasoline, Electric) :\n",
    "    def __init__(self, engine='Hybrid', tank_cap =11, kwh_cap=5) :\n",
    "        Gasoline.__init__(self, engine, tank_cap)\n",
    "        Electric.__init__(self, engine, kwh_cap)\n",
    "        \n",
    "tesla = Electric()\n",
    "print(tesla.ban)\n",
    "print(tesla.mesin)\n",
    "print(tesla.tengki)\n",
    "print(tesla.kwh)\n",
    "tesla.recharge()\n",
    "print(tesla.kwh)\n",
    "print('\\n')\n",
    "mersi = Gasoline()\n",
    "print(mersi.ban)\n",
    "print(mersi.mesin)\n",
    "print(mersi.tengki)\n",
    "print(mersi.tank)\n",
    "print('\\n')\n",
    "prius = Hybrid()\n",
    "print(prius.tengki)\n",
    "print(prius.kwh)\n",
    "prius.recharge()\n",
    "print(prius.kwh)"
   ]
  },
  {
   "cell_type": "code",
   "execution_count": 17,
   "metadata": {},
   "outputs": [
    {
     "name": "stdout",
     "output_type": "stream",
     "text": [
      "5\n",
      "3\n",
      "2\n"
     ]
    }
   ],
   "source": [
    "class A :\n",
    "    num=4\n",
    "    \n",
    "class B(A) :\n",
    "    nomor=3\n",
    "\n",
    "class C(A) :\n",
    "    num=5\n",
    "    no = 2\n",
    "\n",
    "class D(B,C) :\n",
    "    pass\n",
    "\n",
    "print(D.num)\n",
    "print(D.nomor)\n",
    "print(D.no)"
   ]
  },
  {
   "cell_type": "code",
   "execution_count": 22,
   "metadata": {},
   "outputs": [
    {
     "name": "stdout",
     "output_type": "stream",
     "text": [
      "3\n"
     ]
    }
   ],
   "source": [
    "class MyBaseClass() :\n",
    "    def __init__(self, x,y) :\n",
    "        self.x = x\n",
    "        self.y = y\n",
    "        \n",
    "class MyDerivedClass(MyBaseClass) :\n",
    "    def __init__(self, x,y,z) :\n",
    "        super().__init__(x,y)\n",
    "        self.z = z\n",
    "\n",
    "d = MyDerivedClass(1,2,3)\n",
    "print(d.z)"
   ]
  },
  {
   "cell_type": "code",
   "execution_count": 31,
   "metadata": {},
   "outputs": [
    {
     "data": {
      "text/plain": [
       "'Bilangan ganjil'"
      ]
     },
     "execution_count": 31,
     "metadata": {},
     "output_type": "execute_result"
    }
   ],
   "source": [
    "class A :\n",
    "    def truth(self) :\n",
    "        return 'All numbers are even'\n",
    "    \n",
    "class B(A) :\n",
    "    def truth(self) :\n",
    "        return 'Bilangan ganjil'\n",
    "\n",
    "class C(A) :\n",
    "    def truth(self) :\n",
    "        return 'Some number are even'\n",
    "    \n",
    "class D(B,C) :\n",
    "    def truth(self, num) :\n",
    "        if num%2 == 0 :\n",
    "            return A.truth(self)\n",
    "        else :\n",
    "            return super().truth()\n",
    "            \n",
    "d = D()\n",
    "d.truth(5)"
   ]
  },
  {
   "cell_type": "code",
   "execution_count": 67,
   "metadata": {},
   "outputs": [
    {
     "name": "stdout",
     "output_type": "stream",
     "text": [
      "\n",
      "Memanggil set data di first class\n",
      "2\n",
      "\\Memanggil set data di second class\n",
      "Current Data is 5\n"
     ]
    }
   ],
   "source": [
    "class FirstClass :\n",
    "    def setdata(self, value) :\n",
    "        self.data = value \n",
    "    def display(self) :\n",
    "        print(self.data)\n",
    "        \n",
    "class SecondClass(FirstClass) :\n",
    "    def display(self) :\n",
    "        print('Current Data is {}'.format(self.data))\n",
    "        \n",
    "print('\\nMemanggil set data di first class')\n",
    "first= FirstClass()\n",
    "first.setdata(2)\n",
    "first.display()\n",
    "print('\\Memanggil set data di second class')\n",
    "second = SecondClass()\n",
    "second.setdata(5)\n",
    "second.display()"
   ]
  },
  {
   "cell_type": "code",
   "execution_count": 49,
   "metadata": {},
   "outputs": [
    {
     "name": "stdout",
     "output_type": "stream",
     "text": [
      "Berfore creating instance 0\n",
      "\n",
      "Status dari parent\n",
      "\n",
      "Total number of students 4\n",
      "\n",
      "Status dari Student Firman\n",
      "\n",
      "Total number of students 4\n"
     ]
    }
   ],
   "source": [
    "class Student(object) :\n",
    "    total = 0\n",
    "    @staticmethod\n",
    "    def status() :\n",
    "        print('\\nTotal number of students {}'.format(Student.total))\n",
    "        \n",
    "#     status = staticmethod(status) \n",
    "    def __init__(self, name) :\n",
    "        self.nama = name\n",
    "        Student.total +=1\n",
    "    \n",
    "print('Berfore creating instance {}'.format(Student.total))\n",
    "student1 = Student('Firman')\n",
    "student2 = Student('Sulton')\n",
    "student3 = Student('Ardi')\n",
    "student4 = Student('Supi')\n",
    "\n",
    "print('\\nStatus dari parent')\n",
    "Student.status()\n",
    "print('\\nStatus dari Student Firman')\n",
    "student1.status()"
   ]
  },
  {
   "cell_type": "code",
   "execution_count": null,
   "metadata": {},
   "outputs": [],
   "source": []
  },
  {
   "cell_type": "code",
   "execution_count": 34,
   "metadata": {},
   "outputs": [
    {
     "name": "stdout",
     "output_type": "stream",
     "text": [
      "1 None 3\n",
      "1 3 3\n"
     ]
    }
   ],
   "source": [
    "class Spam :\n",
    "    numinstances = 0\n",
    "    \n",
    "    # ini seperti private yang hanya bisa diakses oleh class itu sendiri\n",
    "    @classmethod\n",
    "    def count(cls) :\n",
    "        cls.numinstances +=1\n",
    "        \n",
    "    def __init__(self) :\n",
    "#         self.nama = name\n",
    "        self.count()\n",
    "        \n",
    "#     count = classmethod(count)\n",
    "\n",
    "class Sub(Spam) :\n",
    "    numinstances = 0\n",
    "    \n",
    "class Other(Spam) :\n",
    "    numinstances = 0\n",
    "    \n",
    "S = Spam()\n",
    "# y nilainya 2 karna dua kali Sub()\n",
    "y1, y2= Sub(), Sub()\n",
    "# z nilainya 3 karna tiga kali Other()\n",
    "z1,z2,z3 = Other(), Other(), Other()\n",
    "print(S.numinstances, y1.numinstances, z1.numinstances)\n",
    "print(Spam.numinstances, Sub.numinstances, Other.numinstances)"
   ]
  },
  {
   "cell_type": "code",
   "execution_count": 25,
   "metadata": {},
   "outputs": [
    {
     "name": "stdout",
     "output_type": "stream",
     "text": [
      "\n",
      "Static method jumlah_1 dipanggil langsung oleh class\n",
      "4\n",
      "\n",
      "Static method jumlah_2 dipanggil langsung oleh class\n",
      "5\n",
      "\n",
      "Static metod jumlah_2 dipanggil oleh objek\n",
      "3\n"
     ]
    }
   ],
   "source": [
    "class Kalkulator(object) :\n",
    "    def __init__(self) :\n",
    "        pass\n",
    "    \n",
    "    #static method hanya dapat digunakan oleh class\n",
    "#     @staticmethod\n",
    "    def jumlah_1(x,y) :\n",
    "        return x+y\n",
    "#         return(\"Yuspriyadi\")\n",
    "    \n",
    "    #kalau static method digunakan oleh class dan method dan\n",
    "    #nilai kembaliannya berupa angka harus ada @staticmethod diatas function\n",
    "    @staticmethod\n",
    "    def jumlah_2(x,y):\n",
    "        return x+y\n",
    "#         return(\"firman\")\n",
    "    \n",
    "\n",
    "#static method dipanggil langsung oleh class\n",
    "print('\\nStatic method jumlah_1 dipanggil langsung oleh class')\n",
    "print(Kalkulator.jumlah_1(1,3))\n",
    "\n",
    "print('\\nStatic method jumlah_2 dipanggil langsung oleh class')\n",
    "print(Kalkulator.jumlah_2(2,3))\n",
    "\n",
    "print('\\nStatic metod jumlah_2 dipanggil oleh objek')\n",
    "hitung = Kalkulator()\n",
    "print(hitung.jumlah_2(1,2))\n",
    "\n",
    "# print('\\nStatic method jumlah_1 dipanggil oleh objek')\n",
    "# print(hitung.jumlah_1(2,1))\n",
    "    \n"
   ]
  },
  {
   "cell_type": "code",
   "execution_count": 7,
   "metadata": {},
   "outputs": [
    {
     "name": "stdout",
     "output_type": "stream",
     "text": [
      "Employee name Firman and age 36\n",
      "\n",
      "Mengakses isadult dari instance objek\n",
      "True\n",
      "\n",
      "Mengakses private emp_from_year dari instance objek\n",
      "Employee name Cacu and age 11\n",
      "\n",
      "Mengkases private emp_from_year langsung dari class\n",
      "Employee name Indra and age 26\n",
      "\n",
      "Mengakses isadult langsung dari class\n",
      "True\n"
     ]
    }
   ],
   "source": [
    "from datetime import date as dt\n",
    "class Employee(object) :\n",
    "    def __init__(self, name, age) :\n",
    "        self.nama = name\n",
    "        self.umur = age\n",
    "        \n",
    "    # bisa diakses oleh objek instance dan class\n",
    "    @staticmethod\n",
    "    def isadult(age) :\n",
    "        if age > 18 :\n",
    "            return True\n",
    "        else : \n",
    "            return False\n",
    "     \n",
    "    # hanya bisa diakses oleh class/bersifat private\n",
    "    @classmethod\n",
    "    def emp_from_year(cls, name, year) :\n",
    "        return cls(name, dt.today().year-year)\n",
    "    \n",
    "    def __str__(self) :\n",
    "        return('Employee name {} and age {}'.format(self.nama, self.umur))\n",
    "    \n",
    "\n",
    "e = Employee('Firman', 36)\n",
    "print(e)\n",
    "print('\\nMengakses isadult dari instance objek')\n",
    "print(e.isadult(20))\n",
    "print('\\nMengakses private emp_from_year dari instance objek')\n",
    "print(e.emp_from_year(\"Cacu\", 2008))\n",
    "print('\\nMengkases private emp_from_year langsung dari class')\n",
    "e2 = Employee.emp_from_year('Indra', 1993)\n",
    "print(e2)\n",
    "print('\\nMengakses isadult langsung dari class')\n",
    "print(Employee.isadult(25))\n",
    "# print(Employee.isadult(16))"
   ]
  },
  {
   "cell_type": "code",
   "execution_count": 5,
   "metadata": {},
   "outputs": [
    {
     "name": "stdout",
     "output_type": "stream",
     "text": [
      "<__main__.Date object at 0x7eff101928d0>\n"
     ]
    }
   ],
   "source": [
    "class Date(object) :\n",
    "    def __init__(self, day=0, month=0, year=0) :\n",
    "        self.hari = day\n",
    "        self.bulan = month\n",
    "        self.tahun = year\n",
    "    \n",
    "    @classmethod\n",
    "    def from_string(cls, date_as_string) :\n",
    "        day, month, year = map(int, date_as_string.split('-'))\n",
    "        date1 = cls(day, month, year)\n",
    "        print(date1)\n",
    "    \n",
    "    @staticmethod\n",
    "    def is_date_valid(date_as_string) :\n",
    "        day, month, year = map(int, date_as_string.split('-'))\n",
    "        return day <= 31 and month <=12 and year <= 3999\n",
    "    \n",
    "date2 = Date.from_string('02-05-2008')\n",
    "# print(date2)\n",
    "# is_date = Date.is_valid_date('02-08-2009')"
   ]
  },
  {
   "cell_type": "code",
   "execution_count": null,
   "metadata": {},
   "outputs": [],
   "source": []
  }
 ],
 "metadata": {
  "kernelspec": {
   "display_name": "Python 3",
   "language": "python",
   "name": "python3"
  },
  "language_info": {
   "codemirror_mode": {
    "name": "ipython",
    "version": 3
   },
   "file_extension": ".py",
   "mimetype": "text/x-python",
   "name": "python",
   "nbconvert_exporter": "python",
   "pygments_lexer": "ipython3",
   "version": "3.7.3"
  }
 },
 "nbformat": 4,
 "nbformat_minor": 2
}
